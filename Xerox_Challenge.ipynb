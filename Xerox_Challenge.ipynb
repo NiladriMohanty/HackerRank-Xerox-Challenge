{
 "cells": [
  {
   "cell_type": "code",
   "execution_count": null,
   "metadata": {
    "collapsed": false
   },
   "outputs": [],
   "source": [
    "import numpy as np\n",
    "import pandas as pd\n",
    "import os\n",
    "import matplotlib.pyplot as plt\n",
    "import matplotlib\n",
    "matplotlib.style.use('ggplot')\n",
    "%matplotlib inline\n",
    "from sklearn.linear_model.logistic import LogisticRegression\n",
    "\n",
    "data_path = os.path.abspath(os.path.dirname(\"a\"))\n",
    "\n",
    "vitals_train = pd.read_csv(\"%s/Training_Dataset/id_time_vitals_train.csv\" % data_path)\n",
    "labs_train = pd.read_csv(\"%s/Training_Dataset/id_time_labs_train.csv\" % data_path)\n",
    "age_train = pd.read_csv(\"%s/Training_Dataset/id_age_train.csv\" % data_path)\n",
    "label_train = pd.read_csv(\"%s/Training_Dataset/id_label_train.csv\" % data_path)\n"
   ]
  },
  {
   "cell_type": "code",
   "execution_count": null,
   "metadata": {
    "collapsed": false
   },
   "outputs": [],
   "source": [
    "index_zero = labs_train[labs_train.TIME == 0].index.tolist()\n",
    "for i in range(len(index_zero)):\n",
    "  index_zero[i] -= 1\n",
    "#print index_zero\n",
    "\n",
    "'''\n",
    "Other Way to determine \"index_zero\"\n",
    "index_zero = numpy.array(index_zero)\n",
    "index_zero = index_zero - 1\n",
    "'''\n",
    "\n",
    "age_train['TOTAL_TIME'] = np.nan\n",
    "age_train.TOTAL_TIME[0:-1] = labs_train.TIME[index_zero[1:]]\n",
    "age_train.TOTAL_TIME[-1:] = labs_train.TIME[-1:]\n",
    "# age_train.head(10)\n",
    "#print age_label"
   ]
  },
  {
   "cell_type": "code",
   "execution_count": null,
   "metadata": {
    "collapsed": true
   },
   "outputs": [],
   "source": [
    "# age_train2 = age_train.drop(['ID', 'AGE'], axis=1)\n",
    "# age_train2_mean = np.array(age_train2.mean(axis=0))\n",
    "# age_train2_std = np.array(age_train2.std(axis=0))\n",
    "# thresTotalTime1 = (age_train2_mean - 1*age_train2_std)\n",
    "# thresTotalTime2 = (age_train2_mean + 1*age_train2_std)\n",
    "# thresTotalTime1_labels = pd.DataFrame(thresTotalTime1,age_train2.columns)\n",
    "# thresTotalTime2_labels = pd.DataFrame(thresTotalTime2,age_train2.columns)"
   ]
  },
  {
   "cell_type": "code",
   "execution_count": null,
   "metadata": {
    "collapsed": false
   },
   "outputs": [],
   "source": [
    "# print age_train2_mean\n",
    "# print age_train2_std\n",
    "# plt.figure();\n",
    "# age_train.TOTAL_TIME.plot(kind='hist', stacked=True, alpha=0.5, bins=100)"
   ]
  },
  {
   "cell_type": "code",
   "execution_count": null,
   "metadata": {
    "collapsed": false
   },
   "outputs": [],
   "source": [
    "# for col in age_train2.columns:\n",
    "# #     print col\n",
    "#     for row in range(age_train2.index.size):\n",
    "# #         if age_train2[col][row] > thresTotalTime1_labels[0][col] and age_train2[col][row] < thresTotalTime2_labels[0][col]:\n",
    "#         if age_train2[col][row] > thresTotalTime2_labels[0][col]:\n",
    "#             age_train2[col][row] = 1\n",
    "#         else:\n",
    "#             age_train2[col][row] = 0\n",
    "            \n",
    "# age_train_normTime = pd.merge(age_train,age_train2, left_index=True,right_index=True, how='outer')"
   ]
  },
  {
   "cell_type": "code",
   "execution_count": null,
   "metadata": {
    "collapsed": false
   },
   "outputs": [],
   "source": [
    "# print age_train_normTime.head(100)\n",
    "# print thresTotalTime1\n",
    "# print thresTotalTime2"
   ]
  },
  {
   "cell_type": "code",
   "execution_count": null,
   "metadata": {
    "collapsed": false
   },
   "outputs": [],
   "source": [
    "# Merging vitals_train & labs_train\n",
    "vitals_labs = pd.merge(vitals_train,labs_train, left_index=True,right_index=True, how='outer')\n",
    "# vitals_labs.head()"
   ]
  },
  {
   "cell_type": "code",
   "execution_count": null,
   "metadata": {
    "collapsed": false
   },
   "outputs": [],
   "source": [
    "vitals_labs_icu = vitals_labs[vitals_labs['ICU'] == 1]\n",
    "# vitals_labs_icu.head(20)"
   ]
  },
  {
   "cell_type": "code",
   "execution_count": null,
   "metadata": {
    "collapsed": false
   },
   "outputs": [],
   "source": [
    "vitals_labs2 = vitals_labs_icu.drop(['ID_x', 'TIME_x', 'ICU', 'ID_y', 'TIME_y'], axis=1)\n",
    "vitals_labs2_mean = np.array(vitals_labs2.mean(axis=0))\n",
    "vitals_labs2_std = np.array(vitals_labs2.std(axis=0))\n",
    "# print vitals_labs2_mean\n",
    "# print vitals_labs2_std"
   ]
  },
  {
   "cell_type": "code",
   "execution_count": null,
   "metadata": {
    "collapsed": false
   },
   "outputs": [],
   "source": [
    "thres1 = (vitals_labs2_mean - 2*vitals_labs2_std)\n",
    "thres2 = (vitals_labs2_mean + 2*vitals_labs2_std)\n",
    "thres1_labels = pd.DataFrame(thres1,vitals_labs2.columns)\n",
    "thres2_labels = pd.DataFrame(thres2,vitals_labs2.columns)\n",
    "# thres1\n",
    "# thres_labels"
   ]
  },
  {
   "cell_type": "code",
   "execution_count": null,
   "metadata": {
    "collapsed": true
   },
   "outputs": [],
   "source": [
    "# for col in vitals_labs2.columns:\n",
    "#     plt.figure();\n",
    "#     vitals_labs2.col.plot(kind='hist', stacked=True, alpha=0.5, bins=100)"
   ]
  },
  {
   "cell_type": "code",
   "execution_count": null,
   "metadata": {
    "collapsed": true
   },
   "outputs": [],
   "source": [
    "for col in vitals_labs2.columns:\n",
    "    print col\n",
    "    for row in vitals_labs2.index:\n",
    "        if vitals_labs2[col][row] > thres1_labels[0][col] and vitals_labs2[col][row] < thres2_labels[0][col]:\n",
    "            vitals_labs2[col][row] = 0\n",
    "        else:\n",
    "            vitals_labs2[col][row] = 1\n",
    "                "
   ]
  },
  {
   "cell_type": "code",
   "execution_count": null,
   "metadata": {
    "collapsed": false,
    "scrolled": true
   },
   "outputs": [],
   "source": [
    "vitals_labs_icu_ID = vitals_labs_icu.ix[:,['ID_x', 'TIME_x']]\n",
    "vitals_labs_icu_ID = pd.merge(vitals_labs_icu_ID,vitals_labs2, left_index=True,right_index=True, how='outer')\n",
    "# vitals_labs_icu_ID.head(50)"
   ]
  },
  {
   "cell_type": "code",
   "execution_count": null,
   "metadata": {
    "collapsed": true
   },
   "outputs": [],
   "source": [
    "'''\n",
    "Very slow approach\n",
    "Fast approach is below\n",
    "\n",
    "vitals_labs_icu_ID['LABEL'] = np.nan \n",
    "for dummy,id in list(enumerate(label_train.ID)):\n",
    "    print id\n",
    "    for row in vitals_labs_icu_ID.index:\n",
    "        if vitals_labs_icu_ID.ID_x[row] == label_train.ID[id]:\n",
    "           vitals_labs_icu_ID.LABEL = label_train.LABEL\n",
    "    \n",
    "vitals_labs_icu_ID.head(50)\n",
    "'''"
   ]
  },
  {
   "cell_type": "code",
   "execution_count": null,
   "metadata": {
    "collapsed": false,
    "scrolled": false
   },
   "outputs": [],
   "source": [
    "vitals_labs_icu_ID['LABEL'] = np.nan \n",
    "for dummy,id in list(enumerate(label_train.ID)):\n",
    "#     print id\n",
    "#     print dummy\n",
    "    id_index = vitals_labs_icu_ID.ID_x == id\n",
    "    vitals_labs_icu_ID.LABEL[id_index] = label_train.LABEL[dummy]\n",
    "    \n",
    "print vitals_labs_icu_ID.head(10)"
   ]
  },
  {
   "cell_type": "code",
   "execution_count": null,
   "metadata": {
    "collapsed": false
   },
   "outputs": [],
   "source": [
    "# dummy\n",
    "# label_train.LABEL[dummy]\n",
    "# vitals_labs_icu_ID.tail(10)\n",
    "# print vitals_labs_icu_ID.LABEL[628435]\n",
    "# vitals_labs_icu_ID.LABEL[628435] = 1\n",
    "# print vitals_labs_icu_ID.LABEL[628435]"
   ]
  },
  {
   "cell_type": "code",
   "execution_count": null,
   "metadata": {
    "collapsed": false
   },
   "outputs": [],
   "source": [
    "# index_endTime = index_zero[1:]\n",
    "# vitals_labs_endTime = vitals_labs2.loc[index_endTime]\n",
    "# vitals_labs_endTime = vitals_labs_endTime.append(vitals_labs2[-1:],ignore_index=True)"
   ]
  },
  {
   "cell_type": "code",
   "execution_count": null,
   "metadata": {
    "collapsed": true
   },
   "outputs": [],
   "source": [
    "# age_label_vitals_labs_endTime = pd.merge(age_train,vitals_labs_endTime, left_index=True,right_index=True, how='outer')\n",
    "# age_label_vitals_labs_endTime.head(50)"
   ]
  },
  {
   "cell_type": "code",
   "execution_count": null,
   "metadata": {
    "collapsed": false
   },
   "outputs": [],
   "source": [
    "# create train feature\n",
    "X_train = vitals_labs_icu_ID.iloc[:3001,2:33]\n",
    "y_train = vitals_labs_icu_ID.iloc[:3001,34]\n",
    "# assert X_train.shape[0] == y_train.size\n",
    "# fit model\n",
    "clf = LogisticRegression()\n",
    "clf.fit(X_train, y_train)"
   ]
  },
  {
   "cell_type": "code",
   "execution_count": null,
   "metadata": {
    "collapsed": true
   },
   "outputs": [],
   "source": [
    "# Test data\n",
    "X_test = vitals_labs_icu_ID.iloc[3001:,2:33]\n",
    "# predict test data\n",
    "predict_out = clf.predict(X_test)\n",
    "# predict_proba.size"
   ]
  },
  {
   "cell_type": "code",
   "execution_count": null,
   "metadata": {
    "collapsed": true
   },
   "outputs": [],
   "source": [
    "temp_ID = vitals_labs_icu_ID.ix[:,['ID_x']]\n",
    "temp_predict = pd.merge(temp_ID, predict_out, left_index=True,right_index=True, how='outer')"
   ]
  },
  {
   "cell_type": "code",
   "execution_count": null,
   "metadata": {
    "collapsed": false
   },
   "outputs": [],
   "source": [
    "# pos_idx = np.where(clf.classes_ == True)[0][0]\n",
    "# test_df = pd.DataFrame(columns='predict')\n",
    "# test_df = df_.fillna()\n",
    "# test_df['predict'] = predict_proba[:,pos_idx]\n",
    "test_match = (predict_proba == np.array(vitals_labs_icu_ID[3001:,34]))\n",
    "percentage = float(np.sum(test_match)/np.size(predict_proba))*100\n",
    "print percentage"
   ]
  },
  {
   "cell_type": "code",
   "execution_count": null,
   "metadata": {
    "collapsed": true
   },
   "outputs": [],
   "source": []
  }
 ],
 "metadata": {
  "kernelspec": {
   "display_name": "Python 2",
   "language": "python",
   "name": "python2"
  },
  "language_info": {
   "codemirror_mode": {
    "name": "ipython",
    "version": 2
   },
   "file_extension": ".py",
   "mimetype": "text/x-python",
   "name": "python",
   "nbconvert_exporter": "python",
   "pygments_lexer": "ipython2",
   "version": "2.7.9"
  }
 },
 "nbformat": 4,
 "nbformat_minor": 0
}
